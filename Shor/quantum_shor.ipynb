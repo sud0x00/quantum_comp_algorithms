{
  "nbformat": 4,
  "nbformat_minor": 0,
  "metadata": {
    "colab": {
      "provenance": []
    },
    "kernelspec": {
      "name": "python3",
      "display_name": "Python 3"
    },
    "language_info": {
      "name": "python"
    }
  },
  "cells": [
    {
      "cell_type": "code",
      "source": [
        "!pip install qiskit"
      ],
      "metadata": {
        "id": "z8RtjoJeW3Kv"
      },
      "execution_count": null,
      "outputs": []
    },
    {
      "cell_type": "code",
      "source": [
        "from qiskit.algorithms import Shor\n",
        "from qiskit.utils import QuantumInstance \n",
        "from qiskit import Aer"
      ],
      "metadata": {
        "id": "4RgTTJ57Ws-z"
      },
      "execution_count": 3,
      "outputs": []
    },
    {
      "cell_type": "code",
      "source": [
        "\n",
        "key = 69\n",
        "base = 2\n",
        "\n",
        "\n",
        "backend = Aer.get_backend('qasm_simulator')\n",
        "\n",
        "qi = QuantumInstance(backend=backend , shots = 1024)\n",
        "\n",
        "shors = Shor(qi)\n",
        "\n",
        "results = shors.factor(N=15,a=2)\n",
        "\n",
        "print(results)"
      ],
      "metadata": {
        "colab": {
          "base_uri": "https://localhost:8080/"
        },
        "id": "kP-EGeANWtqW",
        "outputId": "25268ec0-5891-476c-b793-1fc9c5b93d38"
      },
      "execution_count": 5,
      "outputs": [
        {
          "output_type": "stream",
          "name": "stdout",
          "text": [
            "{'factors': [[3, 5]], 'successful_counts': 2, 'total_counts': 4}\n"
          ]
        }
      ]
    },
    {
      "cell_type": "code",
      "source": [],
      "metadata": {
        "id": "Jqy2f6eGWzLd"
      },
      "execution_count": 15,
      "outputs": []
    }
  ]
}